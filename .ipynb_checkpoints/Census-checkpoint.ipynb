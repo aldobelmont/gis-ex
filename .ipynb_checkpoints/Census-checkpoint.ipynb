{
 "cells": [
  {
   "cell_type": "markdown",
   "metadata": {},
   "source": [
    "# Simple Census Grab"
   ]
  },
  {
   "cell_type": "markdown",
   "metadata": {},
   "source": [
    "### Load a few packages."
   ]
  },
  {
   "cell_type": "code",
   "execution_count": null,
   "metadata": {
    "collapsed": false
   },
   "outputs": [],
   "source": [
    "import os\n",
    "\n",
    "import pandas as pd\n",
    "import geopandas as gpd\n",
    "import mplleaflet\n",
    "\n",
    "from census import Census\n",
    "from us import states"
   ]
  },
  {
   "cell_type": "code",
   "execution_count": null,
   "metadata": {
    "collapsed": true
   },
   "outputs": [],
   "source": [
    "c = Census(\"f31f8863c1a1b23699154a77add863aeef43a896\", year = 2014)"
   ]
  },
  {
   "cell_type": "markdown",
   "metadata": {},
   "source": [
    "### Get poverty data from the census."
   ]
  },
  {
   "cell_type": "code",
   "execution_count": null,
   "metadata": {
    "collapsed": false
   },
   "outputs": [],
   "source": [
    "il_poverty = c.acs5.state_county_tract(('NAME', 'B17020_001E', 'B17020_002E'), \n",
    "                                       states.IL.fips, '*', Census.ALL)\n",
    "\n",
    "pov_df = pd.io.json.json_normalize(il_poverty)\n",
    "\n",
    "pov_df['rate'] = 100 * pov_df['B17020_002E'].astype(int) / pov_df['B17020_001E'].astype(int)"
   ]
  },
  {
   "cell_type": "markdown",
   "metadata": {},
   "source": [
    "### Get shapefiles of census tracts."
   ]
  },
  {
   "cell_type": "code",
   "execution_count": null,
   "metadata": {
    "collapsed": false
   },
   "outputs": [],
   "source": [
    "# os.system(\"wget http://www2.census.gov/geo/tiger/GENZ2014/shp/cb_2014_17_tract_500k.zip\")\n",
    "# os.system(\"unzip cb_2014_17_tract_500k.zip\")\n",
    "tract_df = gpd.read_file(\"cb_2014_17_tract_500k.shp\")"
   ]
  },
  {
   "cell_type": "markdown",
   "metadata": {},
   "source": [
    "### Merge them together."
   ]
  },
  {
   "cell_type": "code",
   "execution_count": null,
   "metadata": {
    "collapsed": false
   },
   "outputs": [],
   "source": [
    "merged_df = tract_df.merge(pov_df, left_on  = [\"STATEFP\", \"COUNTYFP\", \"TRACTCE\"], \n",
    "                                   right_on = [\"state\", \"county\", \"tract\"])"
   ]
  },
  {
   "cell_type": "code",
   "execution_count": null,
   "metadata": {
    "collapsed": false
   },
   "outputs": [],
   "source": [
    "with open('census.geojson', 'w') as f:\n",
    "    f.write(merged_df.to_json())"
   ]
  },
  {
   "cell_type": "markdown",
   "metadata": {},
   "source": [
    "### See it."
   ]
  },
  {
   "cell_type": "code",
   "execution_count": null,
   "metadata": {
    "collapsed": false
   },
   "outputs": [],
   "source": [
    "import folium, numpy as np\n",
    "\n",
    "colormap = folium.colormap.linear.PuOr.scale(0, 50)\n",
    "\n",
    "m = folium.Map([41.7943,-87.5907], zoom_start=13, tiles='cartodbpositron', \n",
    "               max_zoom=14, min_zoom=6, attr = \"\")\n",
    "\n",
    "folium.GeoJson(merged_df,\n",
    "               style_function=lambda feature: {\n",
    "                'fillColor': colormap(feature['properties']['rate']) if feature['properties']['rate'] else 'k',\n",
    "                'color' : 'k', 'weight' : 0.3,\n",
    "                'fillOpacity' : 0.4 if feature['properties']['rate'] else 0,\n",
    "               }).add_to(m)\n",
    "\n",
    "colormap.caption = 'Percent Poverty'\n",
    "colormap.add_to(m)\n",
    "\n",
    "m"
   ]
  }
 ],
 "metadata": {
  "anaconda-cloud": {},
  "kernelspec": {
   "display_name": "Python [conda root]",
   "language": "python",
   "name": "conda-root-py"
  },
  "language_info": {
   "codemirror_mode": {
    "name": "ipython",
    "version": 3
   },
   "file_extension": ".py",
   "mimetype": "text/x-python",
   "name": "python",
   "nbconvert_exporter": "python",
   "pygments_lexer": "ipython3",
   "version": "3.5.2"
  }
 },
 "nbformat": 4,
 "nbformat_minor": 0
}
