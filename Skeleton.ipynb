{
 "cells": [
  {
   "cell_type": "markdown",
   "metadata": {},
   "source": [
    "## First Steps with GeoPandas"
   ]
  },
  {
   "cell_type": "code",
   "execution_count": null,
   "metadata": {
    "collapsed": false
   },
   "outputs": [],
   "source": [
    "%matplotlib inline\n",
    "import geopandas as gpd"
   ]
  },
  {
   "cell_type": "code",
   "execution_count": null,
   "metadata": {
    "collapsed": false
   },
   "outputs": [],
   "source": [
    "geo_df = gpd.read_file(\"data/cb_2015_us_state_20m.shp\")\n",
    "geo_df.plot()"
   ]
  },
  {
   "cell_type": "code",
   "execution_count": null,
   "metadata": {
    "collapsed": false
   },
   "outputs": [],
   "source": [
    "geo_df.set_index(geo_df[\"STATEFP\"].astype(int), inplace = True)\n",
    "geo_df.head(5)"
   ]
  },
  {
   "cell_type": "markdown",
   "metadata": {},
   "source": [
    "Mask out Alaska, Hawaii, and the territories."
   ]
  },
  {
   "cell_type": "code",
   "execution_count": null,
   "metadata": {
    "collapsed": true
   },
   "outputs": [],
   "source": []
  },
  {
   "cell_type": "code",
   "execution_count": null,
   "metadata": {
    "collapsed": true
   },
   "outputs": [],
   "source": [
    "geo_df = geo_df[contiguous]"
   ]
  },
  {
   "cell_type": "markdown",
   "metadata": {},
   "source": [
    "Try plotting with different projections!"
   ]
  },
  {
   "cell_type": "code",
   "execution_count": null,
   "metadata": {
    "collapsed": false
   },
   "outputs": [],
   "source": [
    "print(geo_df.crs)\n",
    "\n",
    "# try 2163 (albers), 3857 (web), 4269 (plate)\n",
    "ax = geo_df.to_crs(epsg=2163).plot()\n",
    "ax.set_axis_off()"
   ]
  },
  {
   "cell_type": "markdown",
   "metadata": {},
   "source": [
    "## Single Mothers by State"
   ]
  },
  {
   "cell_type": "markdown",
   "metadata": {},
   "source": [
    "Download and format the state-by-state data; format the dataframe.  Set the State ID as the index as an integer, and rename the data column and cast it as a float."
   ]
  },
  {
   "cell_type": "code",
   "execution_count": null,
   "metadata": {
    "collapsed": false
   },
   "outputs": [],
   "source": [
    "import requests, pandas as pd\n",
    "j = requests.get(\"http://api.census.gov/data/2014/acs5/profile?for=state:*&get=DP02_0037PE\").json()\n",
    "smom_df = pd.DataFrame(j[1:], columns = j[0])\n",
    "smom_df[\"state\"] = smom_df[\"state\"].astype(int)\n",
    "smom_df.set_index(\"state\", inplace = True)\n",
    "smom_df[\"DP02_0037PE\"] = smom_df[\"DP02_0037PE\"].astype(float)\n",
    "smom_df.rename(columns = {\"DP02_0037PE\" : \"Percent Mothers Unmarried\"}, inplace = True)\n",
    "smom_df.head()"
   ]
  },
  {
   "cell_type": "markdown",
   "metadata": {},
   "source": [
    "Merge the single mothers dataset onto the states"
   ]
  },
  {
   "cell_type": "code",
   "execution_count": null,
   "metadata": {
    "collapsed": false
   },
   "outputs": [],
   "source": []
  },
  {
   "cell_type": "code",
   "execution_count": null,
   "metadata": {
    "collapsed": false
   },
   "outputs": [],
   "source": [
    "geo_merge.set_index(\"NAME\")[\"Percent Mothers Unmarried\"].sort_values(ascending = False).plot(kind = \"bar\", figsize = (15, 3))"
   ]
  },
  {
   "cell_type": "markdown",
   "metadata": {},
   "source": [
    "Plot the fraction of children born to a single mother, by state.\n",
    "* Use the Albers Equal Area projection (2163).\n",
    "* Use `scheme = \"quantiles\"` and play with alpha (opacity) and the color maps."
   ]
  },
  {
   "cell_type": "code",
   "execution_count": null,
   "metadata": {
    "collapsed": false
   },
   "outputs": [],
   "source": []
  },
  {
   "cell_type": "markdown",
   "metadata": {},
   "source": [
    "## Pennsylvania Election Returns"
   ]
  },
  {
   "cell_type": "markdown",
   "metadata": {},
   "source": [
    "* Import pandas and geopandas, and the democratic vote shares from the last election.\n",
    "* See `Advanced.ipynb` for the (not actually very advanced) scraping from the PA elections site."
   ]
  },
  {
   "cell_type": "code",
   "execution_count": null,
   "metadata": {
    "collapsed": false
   },
   "outputs": [],
   "source": [
    "import pandas as pd, geopandas as gpd\n",
    "\n",
    "demvote_df = pd.read_csv(\"pa_demshare.csv\", index_col = \"county\")\n",
    "demvote_df.head()"
   ]
  },
  {
   "cell_type": "code",
   "execution_count": null,
   "metadata": {
    "collapsed": false
   },
   "outputs": [],
   "source": [
    "counties = gpd.read_file(\"data/cb_2015_us_county_20m.shp\")"
   ]
  },
  {
   "cell_type": "markdown",
   "metadata": {},
   "source": [
    "Select out JUST Pennsylvania, and set the index to the county, in the same format as `demvote_df`."
   ]
  },
  {
   "cell_type": "code",
   "execution_count": null,
   "metadata": {
    "collapsed": true
   },
   "outputs": [],
   "source": []
  },
  {
   "cell_type": "markdown",
   "metadata": {},
   "source": [
    "Now merge the counties and the vote shares together, using the county name index."
   ]
  },
  {
   "cell_type": "code",
   "execution_count": null,
   "metadata": {
    "collapsed": false
   },
   "outputs": [],
   "source": []
  },
  {
   "cell_type": "markdown",
   "metadata": {},
   "source": [
    "Now Plot 'em!!"
   ]
  },
  {
   "cell_type": "code",
   "execution_count": null,
   "metadata": {
    "collapsed": false
   },
   "outputs": [],
   "source": [
    "ax = counties.plot()\n",
    "ax.set_axis_off()"
   ]
  },
  {
   "cell_type": "markdown",
   "metadata": {},
   "source": [
    "* Let's again make a Choropleth map, this time with `equal_interval`.\n",
    "* This time, an appropriate CRS is 3651, for southern Pennsylvania ([spatial reference](http://spatialreference.org/ref/epsg/3651/))."
   ]
  },
  {
   "cell_type": "code",
   "execution_count": null,
   "metadata": {
    "collapsed": false
   },
   "outputs": [],
   "source": []
  },
  {
   "cell_type": "markdown",
   "metadata": {},
   "source": [
    "Here, as above, we download data frome the census.  This time, it's the percent of adults with a bachelor's degree, at the county level."
   ]
  },
  {
   "cell_type": "code",
   "execution_count": null,
   "metadata": {
    "collapsed": false
   },
   "outputs": [],
   "source": [
    "import requests, pandas as pd\n",
    "j = requests.get(\"http://api.census.gov/data/2014/acs5/profile?for=county:*&in=state:42&get=NAME,DP02_0067PE\").json()\n",
    "educ_df = pd.DataFrame(j[1:], columns = j[0])\n",
    "educ_df[\"county\"] = educ_df[\"NAME\"].str.lower()\n",
    "educ_df[\"county\"] = educ_df[\"county\"].str.replace(\" county, pennsylvania\", \"\")\n",
    "educ_df.set_index(\"county\", inplace = True)\n",
    "educ_df[\"DP02_0067PE\"] = educ_df[\"DP02_0067PE\"].astype(float)\n",
    "educ_df.rename(columns = {\"DP02_0067PE\" : \"Bachelor's Degree\"}, inplace = True)\n",
    "educ_df.head()"
   ]
  },
  {
   "cell_type": "markdown",
   "metadata": {},
   "source": [
    "### Merge and Plot Bachelor's v. Share\n",
    "Note again, the merging key is fundamentally geographical, though we're doing it with attributes."
   ]
  },
  {
   "cell_type": "code",
   "execution_count": null,
   "metadata": {
    "collapsed": false,
    "scrolled": true
   },
   "outputs": [],
   "source": [
    "merged = demvote_df.join(educ_df, how = \"inner\")\n",
    "merged.plot(kind = \"scatter\", x = \"Democratic Two-Party Vote Share\", y = \"Bachelor's Degree\")"
   ]
  },
  {
   "cell_type": "markdown",
   "metadata": {},
   "source": [
    "# Spatial Joins"
   ]
  },
  {
   "cell_type": "markdown",
   "metadata": {},
   "source": [
    "### Census Tracts\n",
    "Import the tracts for chicago"
   ]
  },
  {
   "cell_type": "code",
   "execution_count": null,
   "metadata": {
    "collapsed": true
   },
   "outputs": [],
   "source": [
    "import pandas as pd, geopandas as gpd"
   ]
  },
  {
   "cell_type": "code",
   "execution_count": null,
   "metadata": {
    "collapsed": false
   },
   "outputs": [],
   "source": [
    "tract_df = gpd.read_file(\"data/cb_2014_17_tract_500k.shp\")\n",
    "tract_df = tract_df[tract_df[\"COUNTYFP\"] == \"031\"]\n",
    "tract_df.rename(columns = {\"NAME\" : \"Census Tract\"}, inplace = True)"
   ]
  },
  {
   "cell_type": "markdown",
   "metadata": {},
   "source": [
    "* Take a look at `first_degree_murders.csv`.\n",
    "* There is no \"geometry\" column, but there _are_ latitudes and longitudes.\n",
    "* Import it, and make the geometry."
   ]
  },
  {
   "cell_type": "code",
   "execution_count": null,
   "metadata": {
    "collapsed": false
   },
   "outputs": [],
   "source": [
    "from shapely.geometry import Point\n",
    "\n",
    "crime_df = pd.read_csv(\"first_degree_murders.csv\", usecols = [19, 20])\n",
    "crime_df.dropna(inplace = True)\n",
    "\n",
    "geometry = [Point(xy) for xy in zip(crime_df.Longitude, crime_df.Latitude)]\n",
    "crime_coords = gpd.GeoDataFrame(crime_df, crs = tract_df.crs, geometry=geometry)"
   ]
  },
  {
   "cell_type": "markdown",
   "metadata": {},
   "source": [
    "Now use the spatial join syntax, to associate the points to census tracts."
   ]
  },
  {
   "cell_type": "code",
   "execution_count": null,
   "metadata": {
    "collapsed": true
   },
   "outputs": [],
   "source": [
    "# located_crimes = "
   ]
  },
  {
   "cell_type": "code",
   "execution_count": null,
   "metadata": {
    "collapsed": false
   },
   "outputs": [],
   "source": [
    "located_crimes.plot()"
   ]
  },
  {
   "cell_type": "markdown",
   "metadata": {},
   "source": [
    "We now have census tracts for each point.  To make a choropleth, we want to count/group over census tracts, and then attribute merge.  Since we're counting, any old column will do..."
   ]
  },
  {
   "cell_type": "code",
   "execution_count": null,
   "metadata": {
    "collapsed": false
   },
   "outputs": [],
   "source": []
  },
  {
   "cell_type": "markdown",
   "metadata": {},
   "source": [
    "Then merge back onto the tracts dataframe, so that we can plot"
   ]
  },
  {
   "cell_type": "code",
   "execution_count": null,
   "metadata": {
    "collapsed": false
   },
   "outputs": [],
   "source": []
  },
  {
   "cell_type": "markdown",
   "metadata": {},
   "source": [
    "The census tracts are a little too small.  \n",
    "\n",
    "### Again with Community Areas\n",
    "Let's do the same thing again..."
   ]
  },
  {
   "cell_type": "markdown",
   "metadata": {},
   "source": [
    "Import it..."
   ]
  },
  {
   "cell_type": "code",
   "execution_count": null,
   "metadata": {
    "collapsed": false
   },
   "outputs": [],
   "source": [
    "commu_df = gpd.read_file(\"community_areas.geojson\")"
   ]
  },
  {
   "cell_type": "markdown",
   "metadata": {},
   "source": [
    "Create the dataframe of crime coordinates again, but this time matching the community area CRS."
   ]
  },
  {
   "cell_type": "code",
   "execution_count": null,
   "metadata": {
    "collapsed": false
   },
   "outputs": [],
   "source": []
  },
  {
   "cell_type": "markdown",
   "metadata": {},
   "source": [
    "As above, do the spatial join:"
   ]
  },
  {
   "cell_type": "code",
   "execution_count": null,
   "metadata": {
    "collapsed": true
   },
   "outputs": [],
   "source": []
  },
  {
   "cell_type": "markdown",
   "metadata": {},
   "source": [
    "Finally, groupby and count, and merge back "
   ]
  },
  {
   "cell_type": "code",
   "execution_count": null,
   "metadata": {
    "collapsed": false
   },
   "outputs": [],
   "source": []
  },
  {
   "cell_type": "markdown",
   "metadata": {},
   "source": [
    "Merge back on to the community areas and plot!!"
   ]
  },
  {
   "cell_type": "code",
   "execution_count": null,
   "metadata": {
    "collapsed": true
   },
   "outputs": [],
   "source": []
  },
  {
   "cell_type": "markdown",
   "metadata": {},
   "source": [
    "## Interactive Web Maps!?  AWESOME!!!"
   ]
  },
  {
   "cell_type": "code",
   "execution_count": null,
   "metadata": {
    "collapsed": false
   },
   "outputs": [],
   "source": [
    "import folium\n",
    "\n",
    "m = folium.Map([39.828175, -98.5795], \n",
    "               tiles='cartodbpositron', \n",
    "               zoom_start=4, max_zoom=14, min_zoom=4)\n",
    "\n",
    "ft = \"Percent Mothers Unmarried\"\n",
    "cmap = folium.colormap.linear.YlOrRd.scale(geo_merge[ft].min(), geo_merge[ft].max())\n",
    "\n",
    "folium.GeoJson(geo_merge,\n",
    "               style_function=lambda feature: {\n",
    "                'fillColor': cmap(feature['properties'][ft]),\n",
    "                'fillOpacity' : 0.6,\n",
    "                'weight' : 2, 'color' : 'black'\n",
    "               }).add_to(m)\n",
    "\n",
    "cmap.caption = 'Percent Children Born to Single Mothers'\n",
    "cmap.add_to(m)\n",
    "\n",
    "m.save(\"us_single_mothers.html\")\n",
    "m"
   ]
  },
  {
   "cell_type": "markdown",
   "metadata": {},
   "source": [
    "## Spatial Associations and Geocoding"
   ]
  },
  {
   "cell_type": "code",
   "execution_count": null,
   "metadata": {
    "collapsed": false,
    "scrolled": true
   },
   "outputs": [],
   "source": [
    "from geopy.geocoders import Nominatim\n",
    "geolocator = Nominatim()\n",
    "location = geolocator.geocode(\"6021 S. Kimbark Ave, Chicago\")\n",
    "location"
   ]
  },
  {
   "cell_type": "code",
   "execution_count": null,
   "metadata": {
    "collapsed": false
   },
   "outputs": [],
   "source": [
    "from shapely.geometry import Point\n",
    "pt = Point(-87.5940494865461, 41.7851555)"
   ]
  },
  {
   "cell_type": "code",
   "execution_count": null,
   "metadata": {
    "collapsed": false,
    "scrolled": false
   },
   "outputs": [],
   "source": [
    "state_df = gpd.read_file(\"data/cb_2015_us_state_20m.shp\")\n",
    "state_df[state_df.contains(pt)][\"NAME\"]"
   ]
  },
  {
   "cell_type": "code",
   "execution_count": null,
   "metadata": {
    "collapsed": false,
    "scrolled": true
   },
   "outputs": [],
   "source": [
    "tract_df = gpd.read_file(\"data/cb_2014_17_tract_500k.shp\")\n",
    "tract_df = tract_df[tract_df[\"COUNTYFP\"] == \"031\"]\n",
    "tract_df.head()"
   ]
  },
  {
   "cell_type": "code",
   "execution_count": null,
   "metadata": {
    "collapsed": false
   },
   "outputs": [],
   "source": [
    "tract_df[tract_df.contains(pt)][\"NAME\"]"
   ]
  }
 ],
 "metadata": {
  "anaconda-cloud": {},
  "kernelspec": {
   "display_name": "Python [conda root]",
   "language": "python",
   "name": "conda-root-py"
  },
  "language_info": {
   "codemirror_mode": {
    "name": "ipython",
    "version": 3
   },
   "file_extension": ".py",
   "mimetype": "text/x-python",
   "name": "python",
   "nbconvert_exporter": "python",
   "pygments_lexer": "ipython3",
   "version": "3.5.2"
  }
 },
 "nbformat": 4,
 "nbformat_minor": 1
}
